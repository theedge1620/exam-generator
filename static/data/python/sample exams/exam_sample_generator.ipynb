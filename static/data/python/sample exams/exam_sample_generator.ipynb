{
 "cells": [
  {
   "cell_type": "code",
   "execution_count": 55,
   "id": "8de338f0",
   "metadata": {},
   "outputs": [],
   "source": [
    "import requests\n",
    "import json\n",
    "import pandas as pd"
   ]
  },
  {
   "cell_type": "code",
   "execution_count": 56,
   "id": "9d62bc0e",
   "metadata": {},
   "outputs": [],
   "source": [
    "site_name = \"Diablo_Canyon\"\n",
    "output_namebase = site_name+'_exam_sample_'\n",
    "api_url = \"http://localhost:3001/pwr/W/icecondflag/0/multi/1\""
   ]
  },
  {
   "cell_type": "code",
   "execution_count": 57,
   "id": "cbc2bdfe",
   "metadata": {},
   "outputs": [],
   "source": [
    "for ii in range(1,26):\n",
    "    response = requests.get(api_url)\n",
    "    a = response.json()\n",
    "    titles = a['examTopics']['titles']\n",
    "    importance = a['examTopics']['importance']\n",
    "    kaCats = a['examTopics']['kaCats']\n",
    "    systems = a['examTopics']['systems']\n",
    "    question = list(range(1,len(titles)+1))\n",
    "    \n",
    "    dict = {'Question Number':question,'Topic Title':titles,'Topic Importance':importance,'K/A Category':kaCats,'System':systems}\n",
    "    df = pd.DataFrame(dict)\n",
    "    output_name = output_namebase+\"{:03d}\".format(ii) + '.xlsx'\n",
    "    df.to_excel(output_name,index=False)\n",
    "    \n",
    "    "
   ]
  },
  {
   "cell_type": "code",
   "execution_count": null,
   "id": "90669990",
   "metadata": {},
   "outputs": [],
   "source": []
  }
 ],
 "metadata": {
  "kernelspec": {
   "display_name": "Python 3 (ipykernel)",
   "language": "python",
   "name": "python3"
  },
  "language_info": {
   "codemirror_mode": {
    "name": "ipython",
    "version": 3
   },
   "file_extension": ".py",
   "mimetype": "text/x-python",
   "name": "python",
   "nbconvert_exporter": "python",
   "pygments_lexer": "ipython3",
   "version": "3.9.13"
  }
 },
 "nbformat": 4,
 "nbformat_minor": 5
}
