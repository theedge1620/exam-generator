{
 "cells": [
  {
   "cell_type": "code",
   "execution_count": 3,
   "id": "2b94e5ee",
   "metadata": {},
   "outputs": [],
   "source": [
    "import pandas\n",
    "\n",
    "excel_data_df = pandas.read_excel('pwr-ka-catalog.xlsx', sheet_name='PWR KA Catalog')\n",
    "\n",
    "json_str = excel_data_df.to_json(orient='records')\n",
    "outputString = json_str.replace(\"\\\\/\", \"/\")\n",
    "f = open('pwr-ka-catalog.json', 'wb')\n",
    "f.write(outputString.encode('utf-8'))\n",
    "f.close()"
   ]
  },
  {
   "cell_type": "code",
   "execution_count": 13,
   "id": "f223ee60",
   "metadata": {},
   "outputs": [],
   "source": [
    "excel_data_df = pandas.read_excel('bwr-ka-catalog.xlsx', sheet_name='BWR KA Catalog')\n",
    "\n",
    "json_str = excel_data_df.to_json(orient='records')\n",
    "outputString = json_str.replace(\"\\\\/\", \"/\")\n",
    "f = open('bwr-ka-catalog.json', 'wb')\n",
    "f.write(outputString.encode('utf-8'))\n",
    "f.close()"
   ]
  }
 ],
 "metadata": {
  "kernelspec": {
   "display_name": "Python 3 (ipykernel)",
   "language": "python",
   "name": "python3"
  },
  "language_info": {
   "codemirror_mode": {
    "name": "ipython",
    "version": 3
   },
   "file_extension": ".py",
   "mimetype": "text/x-python",
   "name": "python",
   "nbconvert_exporter": "python",
   "pygments_lexer": "ipython3",
   "version": "3.9.13"
  }
 },
 "nbformat": 4,
 "nbformat_minor": 5
}
